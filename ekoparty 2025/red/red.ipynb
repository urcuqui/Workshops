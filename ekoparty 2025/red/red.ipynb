{
 "cells": [
  {
   "cell_type": "code",
   "execution_count": 2,
   "id": "ed812fd5",
   "metadata": {},
   "outputs": [],
   "source": [
    "\n",
    "from transformers import AutoTokenizer, BertForSequenceClassification\n",
    "from textattack import Attacker\n",
    "from textattack.attack_recipes import DeepWordBugGao2018\n",
    "from textattack.datasets import Dataset\n",
    "import joblib\n",
    "import torch"
   ]
  },
  {
   "cell_type": "code",
   "execution_count": 12,
   "id": "282a3993",
   "metadata": {},
   "outputs": [],
   "source": [
    "model_name = \"Goodmotion/spam-mail-classifier\"\n",
    "tokenizer = AutoTokenizer.from_pretrained(model_name)\n",
    "target_model = BertForSequenceClassification.from_pretrained(model_name)"
   ]
  },
  {
   "cell_type": "code",
   "execution_count": 14,
   "id": "a039cae3",
   "metadata": {},
   "outputs": [],
   "source": [
    "# DO NOT CHANGE\n",
    "\n",
    "class TextAttackWrapper(object):\n",
    "    def __init__(self, model):\n",
    "        self.model = model\n",
    "\n",
    "    def __call__(self, x):\n",
    "        inputs = tokenizer(x, return_tensors=\"pt\", padding=True)\n",
    "        with torch.no_grad():\n",
    "            output = self.model(**inputs)\n",
    "            probs = output.logits.softmax(dim=-1).numpy()\n",
    "        return probs"
   ]
  },
  {
   "cell_type": "code",
   "execution_count": 24,
   "id": "bc8a36b0",
   "metadata": {},
   "outputs": [],
   "source": [
    "data = [(\"Limited time offer: Act now!\", 1), (\"Join us for a webinar on AI innovations\", 0), (\"Urgent: Verify your account immediately.\", 1),\n",
    "        (\"Congratulations! You've won a free gift card.\", 1), (\"Your subscription has been renewed successfully.\", 0),\n",
    "        (\"Important security update for your account\", 1), (\"Don't miss out on our exclusive sale!\", 1), \n",
    "        (\"Your invoice is ready for download\", 0), (\"Get paid to work from home!\", 1), (\"Carte de crédit sur le point d’expirer sur Cloudflare\", 1)]\n",
    "dataset = Dataset(data)  "
   ]
  },
  {
   "cell_type": "code",
   "execution_count": 25,
   "id": "e6b7040e",
   "metadata": {},
   "outputs": [],
   "source": [
    "model_wrapper = TextAttackWrapper(target_model)"
   ]
  },
  {
   "cell_type": "code",
   "execution_count": 26,
   "id": "aa528c8d",
   "metadata": {},
   "outputs": [
    {
     "name": "stderr",
     "output_type": "stream",
     "text": [
      "textattack: Unknown if model of class <class 'transformers.models.bert.modeling_bert.BertForSequenceClassification'> compatible with goal function <class 'textattack.goal_functions.classification.untargeted_classification.UntargetedClassification'>.\n"
     ]
    },
    {
     "data": {
      "text/plain": [
       "<bound method Attack.attack of Attack(\n",
       "  (search_method): GreedyWordSwapWIR(\n",
       "    (wir_method):  unk\n",
       "  )\n",
       "  (goal_function):  UntargetedClassification\n",
       "  (transformation):  CompositeTransformation(\n",
       "    (0): WordSwapNeighboringCharacterSwap(\n",
       "        (random_one):  True\n",
       "      )\n",
       "    (1): WordSwapRandomCharacterSubstitution(\n",
       "        (random_one):  True\n",
       "      )\n",
       "    (2): WordSwapRandomCharacterDeletion(\n",
       "        (random_one):  True\n",
       "      )\n",
       "    (3): WordSwapRandomCharacterInsertion(\n",
       "        (random_one):  True\n",
       "      )\n",
       "    )\n",
       "  (constraints): \n",
       "    (0): LevenshteinEditDistance(\n",
       "        (max_edit_distance):  30\n",
       "        (compare_against_original):  True\n",
       "      )\n",
       "    (1): RepeatModification\n",
       "    (2): StopwordModification\n",
       "  (is_black_box):  True\n",
       ")>"
      ]
     },
     "execution_count": 26,
     "metadata": {},
     "output_type": "execute_result"
    }
   ],
   "source": [
    "attack = DeepWordBugGao2018.build(model_wrapper)\n",
    "attack.attack"
   ]
  },
  {
   "cell_type": "code",
   "execution_count": 27,
   "id": "4c1b325e",
   "metadata": {},
   "outputs": [
    {
     "name": "stdout",
     "output_type": "stream",
     "text": [
      "Attack(\n",
      "  (search_method): GreedyWordSwapWIR(\n",
      "    (wir_method):  unk\n",
      "  )\n",
      "  (goal_function):  UntargetedClassification\n",
      "  (transformation):  CompositeTransformation(\n",
      "    (0): WordSwapNeighboringCharacterSwap(\n",
      "        (random_one):  True\n",
      "      )\n",
      "    (1): WordSwapRandomCharacterSubstitution(\n",
      "        (random_one):  True\n",
      "      )\n",
      "    (2): WordSwapRandomCharacterDeletion(\n",
      "        (random_one):  True\n",
      "      )\n",
      "    (3): WordSwapRandomCharacterInsertion(\n",
      "        (random_one):  True\n",
      "      )\n",
      "    )\n",
      "  (constraints): \n",
      "    (0): LevenshteinEditDistance(\n",
      "        (max_edit_distance):  30\n",
      "        (compare_against_original):  True\n",
      "      )\n",
      "    (1): RepeatModification\n",
      "    (2): StopwordModification\n",
      "  (is_black_box):  True\n",
      ") \n",
      "\n"
     ]
    },
    {
     "name": "stderr",
     "output_type": "stream",
     "text": [
      "[Succeeded / Failed / Skipped / Total] 0 / 1 / 0 / 1:  10%|█         | 1/10 [00:00<00:02,  3.66it/s]"
     ]
    },
    {
     "name": "stdout",
     "output_type": "stream",
     "text": [
      "--------------------------------------------- Result 1 ---------------------------------------------\n",
      "[[1 (100%)]] --> [[[FAILED]]]\n",
      "\n",
      "Limited time offer: Act now!\n",
      "\n",
      "\n"
     ]
    },
    {
     "name": "stderr",
     "output_type": "stream",
     "text": [
      "[Succeeded / Failed / Skipped / Total] 0 / 2 / 0 / 2:  20%|██        | 2/10 [00:00<00:02,  3.33it/s]"
     ]
    },
    {
     "name": "stdout",
     "output_type": "stream",
     "text": [
      "--------------------------------------------- Result 2 ---------------------------------------------\n",
      "[[0 (100%)]] --> [[[FAILED]]]\n",
      "\n",
      "Join us for a webinar on AI innovations\n",
      "\n",
      "\n"
     ]
    },
    {
     "name": "stderr",
     "output_type": "stream",
     "text": [
      "[Succeeded / Failed / Skipped / Total] 0 / 3 / 0 / 3:  30%|███       | 3/10 [00:00<00:02,  3.39it/s]"
     ]
    },
    {
     "name": "stdout",
     "output_type": "stream",
     "text": [
      "--------------------------------------------- Result 3 ---------------------------------------------\n",
      "[[1 (100%)]] --> [[[FAILED]]]\n",
      "\n",
      "Urgent: Verify your account immediately.\n",
      "\n",
      "\n"
     ]
    },
    {
     "name": "stderr",
     "output_type": "stream",
     "text": [
      "[Succeeded / Failed / Skipped / Total] 2 / 3 / 2 / 7:  70%|███████   | 7/10 [00:01<00:00,  4.76it/s]"
     ]
    },
    {
     "name": "stdout",
     "output_type": "stream",
     "text": [
      "--------------------------------------------- Result 4 ---------------------------------------------\n",
      "[[1 (100%)]] --> [[0 (98%)]]\n",
      "\n",
      "[[Congratulations]]! [[You've]] won a [[free]] [[gift]] [[card]].\n",
      "\n",
      "[[Congratualtions]]! [[Yu've]] won a [[rfee]] [[gqift]] [[acrd]].\n",
      "\n",
      "\n",
      "--------------------------------------------- Result 5 ---------------------------------------------\n",
      "[[1 (100%)]] --> [[[SKIPPED]]]\n",
      "\n",
      "Your subscription has been renewed successfully.\n",
      "\n",
      "\n",
      "--------------------------------------------- Result 6 ---------------------------------------------\n",
      "[[0 (100%)]] --> [[[SKIPPED]]]\n",
      "\n",
      "Important security update for your account\n",
      "\n",
      "\n",
      "--------------------------------------------- Result 7 ---------------------------------------------\n",
      "[[1 (100%)]] --> [[0 (100%)]]\n",
      "\n",
      "Don't miss out on our [[exclusive]] sale!\n",
      "\n",
      "Don't miss out on our [[exlcusive]] sale!\n",
      "\n",
      "\n"
     ]
    },
    {
     "name": "stderr",
     "output_type": "stream",
     "text": [
      "[Succeeded / Failed / Skipped / Total] 3 / 4 / 3 / 10: 100%|██████████| 10/10 [00:01<00:00,  5.37it/s]"
     ]
    },
    {
     "name": "stdout",
     "output_type": "stream",
     "text": [
      "--------------------------------------------- Result 8 ---------------------------------------------\n",
      "[[0 (100%)]] --> [[[FAILED]]]\n",
      "\n",
      "Your invoice is ready for download\n",
      "\n",
      "\n",
      "--------------------------------------------- Result 9 ---------------------------------------------\n",
      "[[1 (100%)]] --> [[0 (98%)]]\n",
      "\n",
      "[[Get]] [[paid]] to work from home!\n",
      "\n",
      "[[Gept]] [[vaid]] to work from home!\n",
      "\n",
      "\n",
      "--------------------------------------------- Result 10 ---------------------------------------------\n",
      "[[0 (100%)]] --> [[[SKIPPED]]]\n",
      "\n",
      "Carte de crédit sur le point d’expirer sur Cloudflare\n",
      "\n",
      "\n",
      "\n",
      "+-------------------------------+--------+\n",
      "| Attack Results                |        |\n",
      "+-------------------------------+--------+\n",
      "| Number of successful attacks: | 3      |\n",
      "| Number of failed attacks:     | 4      |\n",
      "| Number of skipped attacks:    | 3      |\n",
      "| Original accuracy:            | 70.0%  |\n",
      "| Accuracy under attack:        | 40.0%  |\n",
      "| Attack success rate:          | 42.86% |\n",
      "| Average perturbed word %:     | 39.68% |\n",
      "| Average num. words per input: | 6.6    |\n",
      "| Avg num queries:              | 19.43  |\n",
      "+-------------------------------+--------+\n"
     ]
    },
    {
     "name": "stderr",
     "output_type": "stream",
     "text": [
      "\n"
     ]
    },
    {
     "data": {
      "text/plain": [
       "[<textattack.attack_results.failed_attack_result.FailedAttackResult at 0x2bbb0837350>,\n",
       " <textattack.attack_results.failed_attack_result.FailedAttackResult at 0x2bbb0417c90>,\n",
       " <textattack.attack_results.failed_attack_result.FailedAttackResult at 0x2bbb2482790>,\n",
       " <textattack.attack_results.successful_attack_result.SuccessfulAttackResult at 0x2bbb257bd50>,\n",
       " <textattack.attack_results.skipped_attack_result.SkippedAttackResult at 0x2bbc117ed90>,\n",
       " <textattack.attack_results.skipped_attack_result.SkippedAttackResult at 0x2bbb2207150>,\n",
       " <textattack.attack_results.successful_attack_result.SuccessfulAttackResult at 0x2bbb22e52d0>,\n",
       " <textattack.attack_results.failed_attack_result.FailedAttackResult at 0x2bbb003fdd0>,\n",
       " <textattack.attack_results.successful_attack_result.SuccessfulAttackResult at 0x2bbb22f0710>,\n",
       " <textattack.attack_results.skipped_attack_result.SkippedAttackResult at 0x2bbb256b350>]"
      ]
     },
     "execution_count": 27,
     "metadata": {},
     "output_type": "execute_result"
    }
   ],
   "source": [
    "attacker = Attacker(attack, dataset)\n",
    "attacker.attack_dataset()"
   ]
  },
  {
   "cell_type": "code",
   "execution_count": null,
   "id": "5753b3e0",
   "metadata": {},
   "outputs": [
    {
     "name": "stdout",
     "output_type": "stream",
     "text": [
      "Probability of class 0:\n",
      "---------------\n",
      "0.08%\n",
      "\n",
      "Probability of class 1:\n",
      "---------------\n",
      "99.92%\n",
      "\n",
      "Probability of class 0 (adv example):\n",
      "---------------\n",
      "74.17%\n",
      "\n",
      "Probability of class 1 (adv example):\n",
      "---------------\n",
      "25.83%\n",
      "\n"
     ]
    }
   ],
   "source": [
    "probs = model_wrapper(\"Congratulations! You've won a free gift card.\")\n",
    "# class 0 is not spam, class 1 is spam\n",
    "for i, prob in enumerate(probs[0]):\n",
    "    print(f\"Probability of class {i}:\\n---------------\\n{prob * 100:.2f}%\\n\")\n",
    "    \n",
    "adv_probs = model_wrapper(\"[[Congratualtions]]! [[Yu've]] won a [[rfee]] [[gqift]] [[acrd]]\")\n",
    "for i, adv_probs in enumerate(adv_probs[0]):\n",
    "    print(f\"Probability of class {i} (adv example):\\n---------------\\n{adv_probs * 100:.2f}%\\n\")"
   ]
  }
 ],
 "metadata": {
  "kernelspec": {
   "display_name": ".venv",
   "language": "python",
   "name": "python3"
  },
  "language_info": {
   "codemirror_mode": {
    "name": "ipython",
    "version": 3
   },
   "file_extension": ".py",
   "mimetype": "text/x-python",
   "name": "python",
   "nbconvert_exporter": "python",
   "pygments_lexer": "ipython3",
   "version": "3.12.2"
  }
 },
 "nbformat": 4,
 "nbformat_minor": 5
}
